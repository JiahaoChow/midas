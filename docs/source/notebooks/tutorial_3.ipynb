{
 "cells": [
  {
   "cell_type": "markdown",
   "metadata": {},
   "source": [
    "# Tutorial-3: Evaluating Modality Alignment\n",
    "In this tutorial, we demonstrate how to calculate metrics for modality alignment. \n",
    "\n",
    "The modality alignment metrics comprise modality averaged silhouette width (ASW; $y^{\\text{ASW}}$), fraction of samples closer than the true match (FOSCTTM; $y^{\\text{FOSCTTM}}$), label transfer F1 ($y^{\\text{ltF1}}$), ATAC area under the receiver operating characteristic (AUROC; $y^{\\text{AUROC}}$), RNA Pearson’s r ($y^{\\text{RNAr}}$) and ADT Pearson’s r ($y^{\\text{ADTr}}$), where $y^{\\text{ASW}}$, $y^{\\text{FOSCTTM}}$ and $y^{\\text{ltF1}}$ are defined in embedding space, and $y^{\\text{AUROC}}$, $y^{\\text{RNAr}}$ and $y^{\\text{ADTr}}$ are defined in feature space.\n",
    "\n",
    "\n",
    "Before executing the code in this tutorial, it is essential to complete Tutorial-2, as this tutorial builds upon the training results obtained there. Unlike common metrics, calculating modality alignment requires inputting the full dataset instead of mosaic data. Using the full dataset, we predict the modality-specific embeddings and translated counts, which will be evaluated.\n"
   ]
  },
  {
   "cell_type": "markdown",
   "metadata": {},
   "source": [
    "## Dataset Preparation\n",
    "Firstly, we construct a full dataset (~7min):"
   ]
  },
  {
   "cell_type": "code",
   "execution_count": 1,
   "metadata": {},
   "outputs": [],
   "source": [
    "import warnings\n",
    "warnings.filterwarnings('ignore')\n",
    "\n",
    "from scmidas.datasets import GenDataFromPath"
   ]
  },
  {
   "cell_type": "code",
   "execution_count": 2,
   "metadata": {},
   "outputs": [
    {
     "name": "stdout",
     "output_type": "stream",
     "text": [
      "Spliting rna matrix: 7361 cells, 4054 features\n"
     ]
    },
    {
     "name": "stderr",
     "output_type": "stream",
     "text": [
      "100%|██████████| 7361/7361 [00:12<00:00, 601.43it/s]\n"
     ]
    },
    {
     "name": "stdout",
     "output_type": "stream",
     "text": [
      "Spliting adt matrix: 7361 cells, 208 features\n"
     ]
    },
    {
     "name": "stderr",
     "output_type": "stream",
     "text": [
      "100%|██████████| 7361/7361 [00:04<00:00, 1839.88it/s]\n"
     ]
    },
    {
     "name": "stdout",
     "output_type": "stream",
     "text": [
      "Spliting atac matrix: 7361 cells, 30521 features\n"
     ]
    },
    {
     "name": "stderr",
     "output_type": "stream",
     "text": [
      "100%|██████████| 7361/7361 [01:01<00:00, 119.99it/s]\n"
     ]
    },
    {
     "name": "stdout",
     "output_type": "stream",
     "text": [
      "Spliting rna matrix: 5897 cells, 4054 features\n"
     ]
    },
    {
     "name": "stderr",
     "output_type": "stream",
     "text": [
      "100%|██████████| 5897/5897 [00:10<00:00, 574.41it/s]\n"
     ]
    },
    {
     "name": "stdout",
     "output_type": "stream",
     "text": [
      "Spliting adt matrix: 5897 cells, 208 features\n"
     ]
    },
    {
     "name": "stderr",
     "output_type": "stream",
     "text": [
      "100%|██████████| 5897/5897 [00:03<00:00, 1618.78it/s]\n"
     ]
    },
    {
     "name": "stdout",
     "output_type": "stream",
     "text": [
      "Spliting atac matrix: 5897 cells, 30521 features\n"
     ]
    },
    {
     "name": "stderr",
     "output_type": "stream",
     "text": [
      "100%|██████████| 5897/5897 [00:47<00:00, 124.45it/s]\n"
     ]
    },
    {
     "name": "stdout",
     "output_type": "stream",
     "text": [
      "Spliting rna matrix: 10190 cells, 4054 features\n"
     ]
    },
    {
     "name": "stderr",
     "output_type": "stream",
     "text": [
      "100%|██████████| 10190/10190 [00:17<00:00, 584.73it/s]\n"
     ]
    },
    {
     "name": "stdout",
     "output_type": "stream",
     "text": [
      "Spliting adt matrix: 10190 cells, 208 features\n"
     ]
    },
    {
     "name": "stderr",
     "output_type": "stream",
     "text": [
      "100%|██████████| 10190/10190 [00:05<00:00, 1702.19it/s]\n"
     ]
    },
    {
     "name": "stdout",
     "output_type": "stream",
     "text": [
      "Spliting atac matrix: 10190 cells, 30521 features\n"
     ]
    },
    {
     "name": "stderr",
     "output_type": "stream",
     "text": [
      "100%|██████████| 10190/10190 [01:21<00:00, 124.73it/s]\n"
     ]
    }
   ],
   "source": [
    "data_path = [\n",
    "    {\n",
    "        \"rna\": \"./data_3/processed/dogma_demo/subset_0/mat/rna.csv\", \n",
    "        \"adt\": \"./data_3/processed/dogma_demo/subset_0/mat/adt.csv\",\n",
    "        \"atac\": \"./data_3/processed/dogma_demo/subset_0/mat/atac.csv\"\n",
    "     },\n",
    "    {\n",
    "        \"rna\": \"./data_3/processed/dogma_demo/subset_1/mat/rna.csv\", \n",
    "        \"adt\": \"./data_3/processed/dogma_demo/subset_1/mat/adt.csv\",\n",
    "        \"atac\": \"./data_3/processed/dogma_demo/subset_1/mat/atac.csv\"\n",
    "     },\n",
    "\n",
    "    {\n",
    "        \"rna\": \"./data_3/processed/dogma_demo/subset_2/mat/rna.csv\", \n",
    "        \"adt\": \"./data_3/processed/dogma_demo/subset_2/mat/adt.csv\",\n",
    "        \"atac\": \"./data_3/processed/dogma_demo/subset_2/mat/atac.csv\"\n",
    "     },\n",
    "]\n",
    "save_dir = \"./data_3/processed/dogma_demo_transfer/\"\n",
    "remove_old = False\n",
    "GenDataFromPath(data_path, save_dir, remove_old) # generate a directory, can be substituted by preprocess/split_mat.py"
   ]
  },
  {
   "cell_type": "markdown",
   "metadata": {},
   "source": [
    "## Pretrained Model Preparation\n",
    "In this section, we initialize the model with pretrained weights from the tutorial-2."
   ]
  },
  {
   "cell_type": "code",
   "execution_count": 3,
   "metadata": {},
   "outputs": [],
   "source": [
    "from scmidas.models import MIDAS\n",
    "from scmidas.datasets import GetDataInfo\n",
    "import scmidas.utils as utils\n",
    "import scanpy as sc\n",
    "import pandas as pd\n",
    "\n",
    "sc.set_figure_params(figsize=(4, 4))"
   ]
  },
  {
   "cell_type": "code",
   "execution_count": null,
   "metadata": {},
   "outputs": [],
   "source": [
    "data = [GetDataInfo(\"./data_3/processed/dogma_demo_transfer/\")]\n",
    "model = MIDAS(data)\n",
    "model.init_model(model_path=\"./result/dogma_demo/train/sp_00000500.pt\", skip_s=True) # skip_s_enc is set to True to avoid dismatch structure."
   ]
  },
  {
   "cell_type": "markdown",
   "metadata": {},
   "source": [
    "## Prediction\n",
    "In this section, we predict the embeddings for each modality and the translated counts, as well as inputs (used when calculating correlation). ~24min"
   ]
  },
  {
   "cell_type": "code",
   "execution_count": 7,
   "metadata": {},
   "outputs": [
    {
     "name": "stdout",
     "output_type": "stream",
     "text": [
      "Predicting ...\n",
      "Processing subset 0: ['atac', 'rna', 'adt']\n"
     ]
    },
    {
     "name": "stderr",
     "output_type": "stream",
     "text": [
      "100%|██████████| 29/29 [07:43<00:00, 15.99s/it]\n"
     ]
    },
    {
     "name": "stdout",
     "output_type": "stream",
     "text": [
      "Processing subset 1: ['atac', 'rna', 'adt']\n"
     ]
    },
    {
     "name": "stderr",
     "output_type": "stream",
     "text": [
      "100%|██████████| 24/24 [06:07<00:00, 15.32s/it]\n"
     ]
    },
    {
     "name": "stdout",
     "output_type": "stream",
     "text": [
      "Processing subset 2: ['atac', 'rna', 'adt']\n"
     ]
    },
    {
     "name": "stderr",
     "output_type": "stream",
     "text": [
      "100%|██████████| 40/40 [10:45<00:00, 16.15s/it]\n"
     ]
    }
   ],
   "source": [
    "model.predict(mod_latent=True, translate=True, input=True, save_dir=f'./result/dogma_demo/predict/', remove_old=False)"
   ]
  },
  {
   "cell_type": "markdown",
   "metadata": {},
   "source": [
    "## Evaluation\n",
    "~50min"
   ]
  },
  {
   "cell_type": "code",
   "execution_count": 8,
   "metadata": {},
   "outputs": [],
   "source": [
    "from scmidas.evaluation import eval_mod"
   ]
  },
  {
   "cell_type": "code",
   "execution_count": 10,
   "metadata": {},
   "outputs": [
    {
     "name": "stdout",
     "output_type": "stream",
     "text": [
      "Loading predicted variables ...\n"
     ]
    },
    {
     "name": "stderr",
     "output_type": "stream",
     "text": [
      "100%|██████████| 29/29 [00:00<00:00, 198.88it/s]\n",
      "100%|██████████| 29/29 [00:00<00:00, 271.21it/s]\n",
      "100%|██████████| 29/29 [00:00<00:00, 263.84it/s]\n",
      "100%|██████████| 29/29 [00:00<00:00, 265.69it/s]\n",
      "100%|██████████| 29/29 [00:00<00:00, 66.94it/s]\n",
      "100%|██████████| 29/29 [00:06<00:00,  4.52it/s]\n",
      "100%|██████████| 29/29 [00:00<00:00, 35.11it/s]\n",
      "100%|██████████| 29/29 [00:47<00:00,  1.63s/it]\n",
      "100%|██████████| 29/29 [00:50<00:00,  1.75s/it]\n",
      "100%|██████████| 29/29 [00:07<00:00,  3.69it/s]\n",
      "100%|██████████| 29/29 [00:00<00:00, 88.10it/s]\n",
      "100%|██████████| 29/29 [00:06<00:00,  4.71it/s]\n",
      "100%|██████████| 29/29 [00:43<00:00,  1.51s/it]\n",
      "100%|██████████| 29/29 [00:13<00:00,  2.11it/s]\n",
      "100%|██████████| 29/29 [00:01<00:00, 14.74it/s]\n",
      "100%|██████████| 29/29 [00:00<00:00, 108.64it/s]\n",
      "100%|██████████| 24/24 [00:00<00:00, 181.13it/s]\n",
      "100%|██████████| 24/24 [00:00<00:00, 214.18it/s]\n",
      "100%|██████████| 24/24 [00:00<00:00, 205.20it/s]\n",
      "100%|██████████| 24/24 [00:00<00:00, 196.88it/s]\n",
      "100%|██████████| 24/24 [00:00<00:00, 72.59it/s]\n",
      "100%|██████████| 24/24 [00:29<00:00,  1.22s/it]\n",
      "100%|██████████| 24/24 [00:00<00:00, 45.48it/s]\n",
      "100%|██████████| 24/24 [00:36<00:00,  1.51s/it]\n",
      "100%|██████████| 24/24 [00:37<00:00,  1.58s/it]\n",
      "100%|██████████| 24/24 [00:09<00:00,  2.43it/s]\n",
      "100%|██████████| 24/24 [00:00<00:00, 56.23it/s]\n",
      "100%|██████████| 24/24 [00:04<00:00,  4.86it/s]\n",
      "100%|██████████| 24/24 [00:36<00:00,  1.53s/it]\n",
      "100%|██████████| 24/24 [00:10<00:00,  2.34it/s]\n",
      "100%|██████████| 24/24 [00:01<00:00, 18.76it/s]\n",
      "100%|██████████| 24/24 [00:00<00:00, 68.71it/s]\n",
      "100%|██████████| 40/40 [00:00<00:00, 200.56it/s]\n",
      "100%|██████████| 40/40 [00:00<00:00, 203.40it/s]\n",
      "100%|██████████| 40/40 [00:00<00:00, 171.95it/s]\n",
      "100%|██████████| 40/40 [00:00<00:00, 251.45it/s]\n",
      "100%|██████████| 40/40 [00:00<00:00, 69.13it/s]\n",
      "100%|██████████| 40/40 [00:09<00:00,  4.30it/s]\n",
      "100%|██████████| 40/40 [00:01<00:00, 35.86it/s]\n",
      "100%|██████████| 40/40 [01:11<00:00,  1.79s/it]\n",
      "100%|██████████| 40/40 [02:07<00:00,  3.19s/it]\n",
      "100%|██████████| 40/40 [00:09<00:00,  4.08it/s]\n",
      "100%|██████████| 40/40 [00:00<00:00, 63.32it/s]\n",
      "100%|██████████| 40/40 [00:08<00:00,  4.59it/s]\n",
      "100%|██████████| 40/40 [01:35<00:00,  2.38s/it]\n",
      "100%|██████████| 40/40 [00:15<00:00,  2.56it/s]\n",
      "100%|██████████| 40/40 [00:03<00:00, 11.14it/s]\n",
      "100%|██████████| 40/40 [00:00<00:00, 97.35it/s] \n"
     ]
    },
    {
     "name": "stdout",
     "output_type": "stream",
     "text": [
      "Converting to numpy ...\n",
      "Converting subset 0: s, joint\n",
      "Converting subset 0: s, atac\n",
      "Converting subset 0: s, rna\n",
      "Converting subset 0: s, adt\n",
      "Converting subset 0: z, joint\n",
      "Converting subset 0: z, atac\n",
      "Converting subset 0: z, rna\n",
      "Converting subset 0: z, adt\n",
      "Converting subset 0: x_trans, atac_to_adt\n",
      "Converting subset 0: x_trans, atac_to_rna\n",
      "Converting subset 0: x_trans, rna_to_adt\n",
      "Converting subset 0: x_trans, rna_to_atac\n",
      "Converting subset 0: x_trans, adt_to_atac\n",
      "Converting subset 0: x_trans, adt_to_rna\n",
      "Converting subset 0: x_trans, atac_rna_to_adt\n",
      "Converting subset 0: x_trans, atac_adt_to_rna\n",
      "Converting subset 0: x_trans, rna_adt_to_atac\n",
      "Converting subset 0: x, atac\n",
      "Converting subset 0: x, rna\n",
      "Converting subset 0: x, adt\n",
      "Converting subset 1: s, joint\n",
      "Converting subset 1: s, atac\n",
      "Converting subset 1: s, rna\n",
      "Converting subset 1: s, adt\n",
      "Converting subset 1: z, joint\n",
      "Converting subset 1: z, atac\n",
      "Converting subset 1: z, rna\n",
      "Converting subset 1: z, adt\n",
      "Converting subset 1: x_trans, atac_to_adt\n",
      "Converting subset 1: x_trans, atac_to_rna\n",
      "Converting subset 1: x_trans, rna_to_adt\n",
      "Converting subset 1: x_trans, rna_to_atac\n",
      "Converting subset 1: x_trans, adt_to_atac\n",
      "Converting subset 1: x_trans, adt_to_rna\n",
      "Converting subset 1: x_trans, atac_rna_to_adt\n",
      "Converting subset 1: x_trans, atac_adt_to_rna\n",
      "Converting subset 1: x_trans, rna_adt_to_atac\n",
      "Converting subset 1: x, atac\n",
      "Converting subset 1: x, rna\n",
      "Converting subset 1: x, adt\n",
      "Converting subset 2: s, joint\n",
      "Converting subset 2: s, atac\n",
      "Converting subset 2: s, rna\n",
      "Converting subset 2: s, adt\n",
      "Converting subset 2: z, joint\n",
      "Converting subset 2: z, atac\n",
      "Converting subset 2: z, rna\n",
      "Converting subset 2: z, adt\n",
      "Converting subset 2: x_trans, atac_to_adt\n",
      "Converting subset 2: x_trans, atac_to_rna\n",
      "Converting subset 2: x_trans, rna_to_adt\n",
      "Converting subset 2: x_trans, rna_to_atac\n",
      "Converting subset 2: x_trans, adt_to_atac\n",
      "Converting subset 2: x_trans, adt_to_rna\n",
      "Converting subset 2: x_trans, atac_rna_to_adt\n",
      "Converting subset 2: x_trans, atac_adt_to_rna\n",
      "Converting subset 2: x_trans, rna_adt_to_atac\n",
      "Converting subset 2: x, atac\n",
      "Converting subset 2: x, rna\n",
      "Converting subset 2: x, adt\n",
      "calculating batch 1/3\n"
     ]
    },
    {
     "name": "stderr",
     "output_type": "stream",
     "text": [
      "/tmp/ipykernel_90289/3845166308.py:7: FutureWarning: In function `silhouette_batch`, argument `group_key` was renamed to `label_key`.\n",
      "  result = eval_modality_alignment(pred, label_list, model.masks)\n"
     ]
    },
    {
     "name": "stdout",
     "output_type": "stream",
     "text": [
      "mean silhouette per group:          silhouette_score\n",
      "group                    \n",
      "B                0.840390\n",
      "CD4 T            0.830041\n",
      "CD8 T            0.872103\n",
      "DC               0.792754\n",
      "Mono             0.822331\n",
      "NK               0.876750\n",
      "other            0.831161\n",
      "other T          0.882571\n",
      "calculating batch 2/3\n"
     ]
    },
    {
     "name": "stderr",
     "output_type": "stream",
     "text": [
      "/tmp/ipykernel_90289/3845166308.py:7: FutureWarning: In function `silhouette_batch`, argument `group_key` was renamed to `label_key`.\n",
      "  result = eval_modality_alignment(pred, label_list, model.masks)\n"
     ]
    },
    {
     "name": "stdout",
     "output_type": "stream",
     "text": [
      "mean silhouette per group:          silhouette_score\n",
      "group                    \n",
      "B                0.888698\n",
      "CD4 T            0.913682\n",
      "CD8 T            0.918087\n",
      "DC               0.847209\n",
      "Mono             0.885915\n",
      "NK               0.935011\n",
      "other            0.901474\n",
      "other T          0.927728\n",
      "calculating batch 3/3\n"
     ]
    },
    {
     "name": "stderr",
     "output_type": "stream",
     "text": [
      "/tmp/ipykernel_90289/3845166308.py:7: FutureWarning: In function `silhouette_batch`, argument `group_key` was renamed to `label_key`.\n",
      "  result = eval_modality_alignment(pred, label_list, model.masks)\n"
     ]
    },
    {
     "name": "stdout",
     "output_type": "stream",
     "text": [
      "mean silhouette per group:          silhouette_score\n",
      "group                    \n",
      "B                0.854576\n",
      "CD4 T            0.858451\n",
      "CD8 T            0.894141\n",
      "DC               0.849380\n",
      "Mono             0.850341\n",
      "NK               0.843207\n",
      "other            0.807512\n",
      "other T          0.834351\n"
     ]
    },
    {
     "data": {
      "text/plain": [
       "{'asw_mod': {'0': 0.8435125604491478,\n",
       "  '1': 0.9022253320396332,\n",
       "  '2': 0.8489948476263821},\n",
       " 'foscttm': {'0': {'adt_to_atac': 0.802176371216774,\n",
       "   'adt_to_rna': 0.8414446413516998,\n",
       "   'rna_to_adt': 0.8613581210374832,\n",
       "   'rna_to_atac': 0.8992796763777733,\n",
       "   'atac_to_adt': 0.7986521124839783,\n",
       "   'atac_to_rna': 0.8574737459421158},\n",
       "  '1': {'adt_to_atac': 0.8391045033931732,\n",
       "   'adt_to_rna': 0.8537391573190689,\n",
       "   'rna_to_adt': 0.8575942367315292,\n",
       "   'rna_to_atac': 0.9999860794387132,\n",
       "   'atac_to_adt': 0.8538448065519333,\n",
       "   'atac_to_rna': 0.9999953118767735},\n",
       "  '2': {'adt_to_atac': 0.8584581613540649,\n",
       "   'adt_to_rna': 0.9867734359577298,\n",
       "   'rna_to_adt': 0.9937428142875433,\n",
       "   'rna_to_atac': 0.8907932043075562,\n",
       "   'atac_to_adt': 0.8049696385860443,\n",
       "   'atac_to_rna': 0.8308574855327606}},\n",
       " 'f1': {'0': {'adt_to_atac': 0.8319521804102703,\n",
       "   'adt_to_rna': 0.9011003939682108,\n",
       "   'rna_to_adt': 0.9011003939682108,\n",
       "   'rna_to_atac': 0.8725716614590409,\n",
       "   'atac_to_adt': 0.875967939138704,\n",
       "   'atac_to_rna': 0.9216139111533759},\n",
       "  '1': {'adt_to_atac': 0.8170256062404613,\n",
       "   'adt_to_rna': 0.8265219603188062,\n",
       "   'rna_to_adt': 0.845345090724097,\n",
       "   'rna_to_atac': 0.9559097846362558,\n",
       "   'atac_to_adt': 0.8370357809055452,\n",
       "   'atac_to_rna': 0.9567576733932508},\n",
       "  '2': {'adt_to_atac': 0.8419038272816487,\n",
       "   'adt_to_rna': 0.9282630029440628,\n",
       "   'rna_to_adt': 0.9182531894013739,\n",
       "   'rna_to_atac': 0.8483807654563298,\n",
       "   'atac_to_adt': 0.8772325809617272,\n",
       "   'atac_to_rna': 0.8891069676153092}},\n",
       " 'auroc': {'0': {'adt_to_atac': 0.7388380313170954,\n",
       "   'rna_to_atac': 0.7512683032507819,\n",
       "   'rna_adt_to_atac': 0.7572979076055532},\n",
       "  '1': {'adt_to_atac': 0.7225792219822992,\n",
       "   'rna_to_atac': 0.8346183285389652,\n",
       "   'rna_adt_to_atac': 0.7678272855356474},\n",
       "  '2': {'adt_to_atac': 0.7225829729260521,\n",
       "   'rna_to_atac': 0.7273275169849904,\n",
       "   'rna_adt_to_atac': 0.7262706385672208}},\n",
       " 'pearson_rna': {'0': {'adt_to_rna': 0.20477485229093365,\n",
       "   'atac_to_rna': 0.5755156361555528,\n",
       "   'atac_adt_to_rna': 0.3987942740791376},\n",
       "  '1': {'adt_to_rna': 0.207530706347185,\n",
       "   'atac_to_rna': 0.8030790484618514,\n",
       "   'atac_adt_to_rna': 0.41706581715746927},\n",
       "  '2': {'adt_to_rna': 0.9060807527542944,\n",
       "   'atac_to_rna': 0.2547802985252733,\n",
       "   'atac_adt_to_rna': 0.8684477861176347}},\n",
       " 'pearson_adt': {'0': {'rna_to_adt': 0.6864890648893474,\n",
       "   'atac_to_adt': 0.604508337207101,\n",
       "   'atac_rna_to_adt': 0.6385493966106577},\n",
       "  '1': {'rna_to_adt': 0.5830561457332121,\n",
       "   'atac_to_adt': 0.5729189069237013,\n",
       "   'atac_rna_to_adt': 0.5636351787332468},\n",
       "  '2': {'rna_to_adt': 0.990958728913683,\n",
       "   'atac_to_adt': 0.5816154790644762,\n",
       "   'atac_rna_to_adt': 0.8880940928956904}}}"
      ]
     },
     "execution_count": 10,
     "metadata": {},
     "output_type": "execute_result"
    }
   ],
   "source": [
    "pred = model.read_preds(mod_latent=True, translate=True, input=True, group_by=\"subset\")\n",
    "label_list = [\n",
    "    pd.read_csv(f'./data/raw/atac+rna+adt/dogma/lll_ctrl/label_seurat/l1.csv', index_col=0).values.flatten(),\n",
    "    pd.read_csv(f'./data/raw/atac+rna+adt/dogma/lll_stim/label_seurat/l1.csv', index_col=0).values.flatten(),\n",
    "    pd.read_csv(f'./data/raw/atac+rna+adt/dogma/dig_ctrl/label_seurat/l1.csv', index_col=0).values.flatten(),\n",
    "    ]\n",
    "result = eval_mod(pred, label_list, model.masks)\n",
    "result"
   ]
  }
 ],
 "metadata": {
  "kernelspec": {
   "display_name": "scmidas13",
   "language": "python",
   "name": "python3"
  },
  "language_info": {
   "codemirror_mode": {
    "name": "ipython",
    "version": 3
   },
   "file_extension": ".py",
   "mimetype": "text/x-python",
   "name": "python",
   "nbconvert_exporter": "python",
   "pygments_lexer": "ipython3",
   "version": "3.8.8"
  }
 },
 "nbformat": 4,
 "nbformat_minor": 2
}
